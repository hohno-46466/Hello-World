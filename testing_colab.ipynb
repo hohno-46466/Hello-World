{
  "nbformat": 4,
  "nbformat_minor": 0,
  "metadata": {
    "colab": {
      "name": "testing_colab.ipynb",
      "provenance": [],
      "include_colab_link": true
    },
    "kernelspec": {
      "name": "python3",
      "display_name": "Python 3"
    },
    "language_info": {
      "name": "python"
    }
  },
  "cells": [
    {
      "cell_type": "markdown",
      "metadata": {
        "id": "view-in-github",
        "colab_type": "text"
      },
      "source": [
        "<a href=\"https://colab.research.google.com/github/hohno-46466/Hello-World/blob/master/testing_colab.ipynb\" target=\"_parent\"><img src=\"https://colab.research.google.com/assets/colab-badge.svg\" alt=\"Open In Colab\"/></a>"
      ]
    },
    {
      "cell_type": "markdown",
      "source": [
        "We're in the Colab environment.\n",
        "\n",
        "This 'notebook' will explain what you need so you can learn within the scope of our course packages. I'll try not to go overboard with this. Remember that this isn't a Python tutorial. It's intended for people a bit familiar with Python already, but just need an online environment to run it.\n",
        "\n",
        "Let's begin.\n",
        "\n",
        "Double click to edit a text area. Hover on a code block and press the play button around the left side to execute it."
      ],
      "metadata": {
        "id": "RLKujp_n82we"
      }
    },
    {
      "cell_type": "code",
      "execution_count": null,
      "metadata": {
        "colab": {
          "base_uri": "https://localhost:8080/"
        },
        "id": "zl3vAwo28y12",
        "outputId": "f4114749-edc6-47a2-ec3c-61ff094d9069"
      },
      "outputs": [
        {
          "output_type": "stream",
          "name": "stdout",
          "text": [
            "Hello world\n"
          ]
        }
      ],
      "source": [
        "print(\"Hello world\")\n",
        "a = 1"
      ]
    },
    {
      "cell_type": "markdown",
      "source": [
        "Each code block has its own play button, but variables are preserved across multiple code blocks. Think of this as one big session, and each code block being a bunch of lines.\n",
        "\n",
        "By the way, press \"+Code\" or \"+Text\" to add more blocks. Use the buttons on the top right of each block to change its position or settings.\n",
        "\n",
        "Press play below to see that the variable is indeed preserved."
      ],
      "metadata": {
        "id": "oUGdeccz9Hka"
      }
    },
    {
      "cell_type": "code",
      "source": [
        "print(a)"
      ],
      "metadata": {
        "colab": {
          "base_uri": "https://localhost:8080/"
        },
        "id": "Q_QpJ6lp9hNI",
        "outputId": "360966f0-f05b-4b17-972a-c731639bd8c1"
      },
      "execution_count": null,
      "outputs": [
        {
          "output_type": "stream",
          "name": "stdout",
          "text": [
            "1\n"
          ]
        }
      ]
    },
    {
      "cell_type": "markdown",
      "source": [
        "Be aware that this is like a session and the code logic doesn't flow top to bottom. If you execute the block below me, you'll find that the result of the block above me has changed. The number in the bracket preceding each code block is the number of execution."
      ],
      "metadata": {
        "id": "qpsi0mvr9oKt"
      }
    },
    {
      "cell_type": "code",
      "source": [
        "a = 2"
      ],
      "metadata": {
        "id": "ZAocmDEV9lji"
      },
      "execution_count": null,
      "outputs": []
    },
    {
      "cell_type": "markdown",
      "source": [
        "Most libraries are supported by default. To install more, read here:\n",
        "\n",
        "https://colab.research.google.com/notebooks/snippets/importing_libraries.ipynb"
      ],
      "metadata": {
        "id": "21GXpMDB-OrM"
      }
    },
    {
      "cell_type": "code",
      "source": [
        "import matplotlib.pyplot as plt\n",
        "import numpy as np\n",
        "import pandas as pd\n",
        "import tensorflow as tf\n"
      ],
      "metadata": {
        "id": "PiCDmvLU-N9A"
      },
      "execution_count": null,
      "outputs": []
    },
    {
      "cell_type": "markdown",
      "source": [
        "Browse the files using the folder button on the top left of the screen.\n",
        "\n",
        "The following code block will attempt to read one of the files.\n",
        "\n",
        "Note that the browser opens to '/content' by default."
      ],
      "metadata": {
        "id": "COWIQg1ohINy"
      }
    },
    {
      "cell_type": "code",
      "source": [
        "with open('sample.txt', 'r') as f:\n",
        "  for line in f:\n",
        "    print(line)"
      ],
      "metadata": {
        "colab": {
          "base_uri": "https://localhost:8080/"
        },
        "id": "nXge0s1nhPX1",
        "outputId": "4f61672b-6545-4d1b-fdd4-b2ebc7e0a291"
      },
      "execution_count": null,
      "outputs": [
        {
          "output_type": "stream",
          "name": "stdout",
          "text": [
            "Line 1\n",
            "\n",
            "Line 2\n",
            "\n",
            "Line 3\n",
            "\n",
            "Line 4\n"
          ]
        }
      ]
    },
    {
      "cell_type": "markdown",
      "source": [
        "To run a command line, precede the line with \"!\""
      ],
      "metadata": {
        "id": "9Ep_B-UhiPsZ"
      }
    },
    {
      "cell_type": "code",
      "source": [
        "!ls"
      ],
      "metadata": {
        "colab": {
          "base_uri": "https://localhost:8080/"
        },
        "id": "AVBt6jFniNvo",
        "outputId": "86493c50-b8c5-4462-8fd0-35adf0c5367a"
      },
      "execution_count": null,
      "outputs": [
        {
          "output_type": "stream",
          "name": "stdout",
          "text": [
            "sample_data  sample.txt\n"
          ]
        }
      ]
    },
    {
      "cell_type": "code",
      "source": [
        "!awk '{ print $2 }' 'sample.txt'"
      ],
      "metadata": {
        "colab": {
          "base_uri": "https://localhost:8080/"
        },
        "id": "8zxl4xGPjAlP",
        "outputId": "4fcf96b4-6fed-4dfe-8556-b8f416a404da"
      },
      "execution_count": null,
      "outputs": [
        {
          "output_type": "stream",
          "name": "stdout",
          "text": [
            "1\r\n",
            "2\r\n",
            "3\r\n",
            "4\n"
          ]
        }
      ]
    },
    {
      "cell_type": "markdown",
      "source": [
        "You can also use double percent signs followed by the command interpreter name as well."
      ],
      "metadata": {
        "id": "9JbjLJg1Nlgt"
      }
    },
    {
      "cell_type": "code",
      "source": [
        "%%bash\n",
        "ls\n",
        "whoami"
      ],
      "metadata": {
        "colab": {
          "base_uri": "https://localhost:8080/"
        },
        "id": "Xduz97mSNhKH",
        "outputId": "fb61ee58-6e43-487d-a1f9-b4bf53ec299f"
      },
      "execution_count": null,
      "outputs": [
        {
          "output_type": "stream",
          "name": "stdout",
          "text": [
            "sample_data\n",
            "sample.txt\n",
            "root\n"
          ]
        }
      ]
    }
  ]
}